{
  "cells": [
    {
      "cell_type": "code",
      "execution_count": null,
      "metadata": {
        "collapsed": false
      },
      "outputs": [],
      "source": [
        "%matplotlib inline"
      ]
    },
    {
      "cell_type": "markdown",
      "metadata": {},
      "source": [
        "# Co-simulation from multidisciplinary feasible initial conditions\n"
      ]
    },
    {
      "cell_type": "code",
      "execution_count": null,
      "metadata": {
        "collapsed": false
      },
      "outputs": [],
      "source": [
        "from numpy import array\n\nfrom gemseo_fmu.disciplines.static_fmu_discipline import StaticFMUDiscipline\nfrom gemseo_fmu.disciplines.time_stepping_system import TimeSteppingSystem\nfrom gemseo_fmu.problems.fmu_files import get_fmu_file_path"
      ]
    },
    {
      "cell_type": "markdown",
      "metadata": {},
      "source": [
        "## The problem\n\nWhen co-simulating several FMU models,\nthe latter do not always have consistent initial conditions,\nwhich can complicate the running of the master algorithm\nand result in erroneous variable evolutions over time.\n\nIn this example,\nwe will see how to update these initial conditions\nto make them multidisciplinary feasible.\nFor that,\nwe consider a very simple example:\n\n- a discipline A\n  computes $x(t) = x(t-1) + 1$ at $t>0$\n  with the initial equation $x(0) = 3 + y(0)$\n  and the initial condition $x(0) = 1$,\n- a discipline B computes $y(t) = y(t-1) + 2$ at $t>0$\n  with the initial equation $y(0) = 3 + 2x(0)$\n  and the initial condition $y(0) = 1$.\n\nSo,\nafter initialization,\nthe output of A is incremented by 1 at each execution,\nwhile the output of B is incremented by 2.\n\nThese disciplines are very similar,\ndiffering only in terms of increment and initial conditions.\nFor this reason,\nthey are implemented from the same FMU model,\nwhose variables are renamed:\n\n"
      ]
    },
    {
      "cell_type": "code",
      "execution_count": null,
      "metadata": {
        "collapsed": false
      },
      "outputs": [],
      "source": [
        "a = StaticFMUDiscipline(\n    get_fmu_file_path(\"FMU3Model\"),\n    variable_names={\"input\": \"y\", \"output\": \"x\", \"increment\": \"inc_a\"},\n    name=\"A\",\n)\nb = StaticFMUDiscipline(\n    get_fmu_file_path(\"FMU3Model\"),\n    variable_names={\"input\": \"x\", \"output\": \"y\", \"increment\": \"inc_b\"},\n    name=\"B\",\n)\nb.default_input_data[\"inc_b\"] = array([2.0])"
      ]
    },
    {
      "cell_type": "markdown",
      "metadata": {},
      "source": [
        "## The wrong way\n\nFirst,\nwe can co-simulate these disciplines with the current initial conditions\nwithout iterating the master algorithm at initial time:\n\n"
      ]
    },
    {
      "cell_type": "code",
      "execution_count": null,
      "metadata": {
        "collapsed": false
      },
      "outputs": [],
      "source": [
        "system = TimeSteppingSystem(\n    (a, b),\n    3,\n    1,\n)\n_ = system.execute()"
      ]
    },
    {
      "cell_type": "markdown",
      "metadata": {},
      "source": [
        "and note the time evolutions of the output variables after three time steps:\n\n"
      ]
    },
    {
      "cell_type": "code",
      "execution_count": null,
      "metadata": {
        "collapsed": false
      },
      "outputs": [],
      "source": [
        "{name: system.io.data[name] for name in [\"x\", \"y\"]}"
      ]
    },
    {
      "cell_type": "markdown",
      "metadata": {},
      "source": [
        "## The right way\n\nThen,\nwe can co-simulate these disciplines,\nby applying the default master algorithm at initial time:\n\n"
      ]
    },
    {
      "cell_type": "code",
      "execution_count": null,
      "metadata": {
        "collapsed": false
      },
      "outputs": [],
      "source": [
        "system = TimeSteppingSystem(\n    (a, b),\n    3,\n    1,\n    mda_max_iter_at_t0=10,\n)\n_ = system.execute()"
      ]
    },
    {
      "cell_type": "markdown",
      "metadata": {},
      "source": [
        "and see that\nthe time evolutions of the output variables after three time steps have changed:\n\n"
      ]
    },
    {
      "cell_type": "code",
      "execution_count": null,
      "metadata": {
        "collapsed": false
      },
      "outputs": [],
      "source": [
        "{name: system.io.data[name] for name in [\"x\", \"y\"]}"
      ]
    },
    {
      "cell_type": "markdown",
      "metadata": {},
      "source": [
        "## The difference\n\nThis difference can be explained by the fact that\nthe master algorithm has corrected the initial conditions,\nwhich were inconsistent.\n\nIndeed,\nthe statement said that $x(0) = 1$ and $y(0) = 3 + 2x(0)$.\nThen, $y(0) = 5$.\nBut the statement said also that $y(0) = 1$,\nwhich is contradictory!\n\nNow,\nlet us consider the initial equation system\n\n$$\\left\\{\\begin{matrix}x(0) = 3 + y(0)\\\\ y(0) = 3 + 2x(0)\\end{matrix}\\right.$$\n\nIts analytical solution is $(x(0),y(0)) = (-6,-9)$.\nThis is what the master algorithm found numerically,\nbefore the three time steps increment these values.\n\n## The take-home message\n\nWhen models have potentially inconsistent initial conditions,\nit may be prudent to\nperform a few iterations of the master algorithm at the initial time\nto ensure that the initial conditions are multidisciplinary feasible.\nTo do this, fill in the argument `mda_max_iter_at_t0` of the\n[TimeSteppingSystem][gemseo_fmu.disciplines.time_stepping_system.TimeSteppingSystem].\n\n"
      ]
    }
  ],
  "metadata": {
    "kernelspec": {
      "display_name": "Python 3",
      "language": "python",
      "name": "python3"
    },
    "language_info": {
      "codemirror_mode": {
        "name": "ipython",
        "version": 3
      },
      "file_extension": ".py",
      "mimetype": "text/x-python",
      "name": "python",
      "nbconvert_exporter": "python",
      "pygments_lexer": "ipython3",
      "version": "3.13.7"
    }
  },
  "nbformat": 4,
  "nbformat_minor": 0
}