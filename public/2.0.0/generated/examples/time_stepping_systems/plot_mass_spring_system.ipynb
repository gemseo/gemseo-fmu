{
  "cells": [
    {
      "cell_type": "code",
      "execution_count": null,
      "metadata": {
        "collapsed": false
      },
      "outputs": [],
      "source": [
        "%matplotlib inline"
      ]
    },
    {
      "cell_type": "markdown",
      "metadata": {},
      "source": [
        "# Time stepping system.\n\nSometimes,\nwe may want to simulate a system of several FMU models coupled together.\n[TimeSteppingSystem][gemseo_fmu.disciplines.time_stepping_system.TimeSteppingSystem]\nallows to perform this _co-simulation_ task.\n"
      ]
    },
    {
      "cell_type": "code",
      "execution_count": null,
      "metadata": {
        "collapsed": false
      },
      "outputs": [],
      "source": [
        "from __future__ import annotations\n\nfrom matplotlib import pyplot as plt\n\nfrom gemseo_fmu.disciplines.fmu_discipline import FMUDiscipline\nfrom gemseo_fmu.disciplines.time_stepping_system import TimeSteppingSystem\nfrom gemseo_fmu.problems.fmu_files import get_fmu_file_path"
      ]
    },
    {
      "cell_type": "markdown",
      "metadata": {},
      "source": [
        "Let us consider a set of two mass-spring pairs connected to each other\nand modelled by two FMU models.\nThese models can be co-simulated by instantiating a\n[TimeSteppingSystem][gemseo_fmu.disciplines.time_stepping_system.TimeSteppingSystem]:\n\n"
      ]
    },
    {
      "cell_type": "code",
      "execution_count": null,
      "metadata": {
        "collapsed": false
      },
      "outputs": [],
      "source": [
        "system = TimeSteppingSystem(\n    (\n        get_fmu_file_path(\"MassSpringSubSystem1\"),\n        get_fmu_file_path(\"MassSpringSubSystem2\"),\n    ),\n    50,\n    0.01,\n)"
      ]
    },
    {
      "cell_type": "markdown",
      "metadata": {},
      "source": [
        "and executing it from initial time to final time:\n\n"
      ]
    },
    {
      "cell_type": "code",
      "execution_count": null,
      "metadata": {
        "collapsed": false
      },
      "outputs": [],
      "source": [
        "system.execute()"
      ]
    },
    {
      "cell_type": "markdown",
      "metadata": {},
      "source": [
        "or with time stepping by setting ``do_step`` to ``False``\nFor this particular example,\nwe also have a FMU model of the complete system:\n\n"
      ]
    },
    {
      "cell_type": "code",
      "execution_count": null,
      "metadata": {
        "collapsed": false
      },
      "outputs": [],
      "source": [
        "reference = FMUDiscipline(\n    get_fmu_file_path(\"MassSpringSystem\"), final_time=50, time_step=0.01\n)\nreference.execute()"
      ]
    },
    {
      "cell_type": "markdown",
      "metadata": {},
      "source": [
        "Then,\nwe can compare the solutions graphically\nin terms of position and velocity of the two masses\nand note that for this example,\nthe co-simulation of the two subsystems is equivalent\nto that of the complete system.\n\n"
      ]
    },
    {
      "cell_type": "code",
      "execution_count": null,
      "metadata": {
        "collapsed": false
      },
      "outputs": [],
      "source": [
        "fig, (ax1, ax2) = plt.subplots(2, 1)\nax1.plot(system.local_data[\"x1\"], label=\"x1\", color=\"red\")\nax1.plot(system.local_data[\"x2\"], label=\"x2\", color=\"blue\")\nax2.plot(system.local_data[\"v1\"], label=\"v1\", color=\"red\")\nax2.plot(system.local_data[\"v2\"], label=\"v2\", color=\"blue\")\n\nax1.plot(reference.local_data[\"x1\"], label=\"x1[ref]\", linestyle=\"--\", color=\"red\")\nax1.plot(reference.local_data[\"x2\"], label=\"x2[ref]\", linestyle=\"--\", color=\"blue\")\nax2.plot(reference.local_data[\"v1\"], label=\"v1[ref]\", linestyle=\"--\", color=\"red\")\nax2.plot(reference.local_data[\"v2\"], label=\"v2[ref]\", linestyle=\"--\", color=\"blue\")\n\nax1.set_xlabel(\"Time (s)\")\nax1.set_ylabel(\"Position (m)\")\nax1.grid()\nax1.legend()\nax2.set_xlabel(\"Time (s)\")\nax2.set_ylabel(\"Velocity (m/s)\")\nax2.grid()\nax2.legend()\nplt.show()"
      ]
    }
  ],
  "metadata": {
    "kernelspec": {
      "display_name": "Python 3",
      "language": "python",
      "name": "python3"
    },
    "language_info": {
      "codemirror_mode": {
        "name": "ipython",
        "version": 3
      },
      "file_extension": ".py",
      "mimetype": "text/x-python",
      "name": "python",
      "nbconvert_exporter": "python",
      "pygments_lexer": "ipython3",
      "version": "3.9.16"
    }
  },
  "nbformat": 4,
  "nbformat_minor": 0
}