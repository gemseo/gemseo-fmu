{
  "cells": [
    {
      "cell_type": "code",
      "execution_count": null,
      "metadata": {
        "collapsed": false
      },
      "outputs": [],
      "source": [
        "%matplotlib inline"
      ]
    },
    {
      "cell_type": "markdown",
      "metadata": {},
      "source": [
        "# Renaming variables\n"
      ]
    },
    {
      "cell_type": "code",
      "execution_count": null,
      "metadata": {
        "collapsed": false
      },
      "outputs": [],
      "source": [
        "from __future__ import annotations\n\nfrom gemseo_fmu.utils.variable_renaming import VariableRenamer\nfrom gemseo_fmu.utils.variable_renaming import VariableTranslation"
      ]
    },
    {
      "cell_type": "markdown",
      "metadata": {},
      "source": [
        "In the context of a multidisciplinary study,\nthe disciplines must use a common naming convention\nso that GEMSEO can automatically connect them.\n\nUnfortunately,\nmodel suppliers sometimes use different conventions.\nFor example,\nthe output of one model and the input of another model\nrepresent the same parameter in the study.\n\nThe [gemseo_fmu.utils.variable_renaming][gemseo_fmu.utils.variable_renaming] module\nenables these models to be connected automatically using a set of translations.\n\n## The main objects\n### Variable translation\nFirst,\nwe need to introduce the notion of\n[VariableTranslation][gemseo_fmu.utils.variable_renaming.VariableTranslation]\nto translate a discipline variable name according to a global taxonomy:\n\n"
      ]
    },
    {
      "cell_type": "code",
      "execution_count": null,
      "metadata": {
        "collapsed": false
      },
      "outputs": [],
      "source": [
        "variable_translation = VariableTranslation(\n    discipline_name=\"A\", variable_name=\"a\", new_variable_name=\"x\"\n)\nvariable_translation"
      ]
    },
    {
      "cell_type": "markdown",
      "metadata": {},
      "source": [
        "### Variable renamer\nThen,\nwe can create a\n[VariableRenamer][gemseo_fmu.utils.variable_renaming.VariableRenamer]\nfrom a set of translations:\n\n"
      ]
    },
    {
      "cell_type": "code",
      "execution_count": null,
      "metadata": {
        "collapsed": false
      },
      "outputs": [],
      "source": [
        "renamer = VariableRenamer.from_translations(\n    variable_translation,\n    VariableTranslation(discipline_name=\"B\", variable_name=\"b\", new_variable_name=\"y\"),\n    VariableTranslation(discipline_name=\"A\", variable_name=\"c\", new_variable_name=\"z\"),\n)"
      ]
    },
    {
      "cell_type": "markdown",
      "metadata": {},
      "source": [
        "This object offers a\n[translators][gemseo_fmu.utils.variable_renaming.VariableRenamer.translators]\nproperty\nmapping from discipline names to dictionaries,\nthemselves mapping from the discipline variable names to the global variable names:\n\n"
      ]
    },
    {
      "cell_type": "code",
      "execution_count": null,
      "metadata": {
        "collapsed": false
      },
      "outputs": [],
      "source": [
        "renamer.translators"
      ]
    },
    {
      "cell_type": "markdown",
      "metadata": {},
      "source": [
        "We can also access the translations:\n\n"
      ]
    },
    {
      "cell_type": "code",
      "execution_count": null,
      "metadata": {
        "collapsed": false
      },
      "outputs": [],
      "source": [
        "renamer.translations"
      ]
    },
    {
      "cell_type": "markdown",
      "metadata": {},
      "source": [
        "## Define the translation from tuples or dictionaries\nThe [VariableRenamer][gemseo_fmu.variable_renaming.VariableRenamer]\ncan also be created from tuples\nof the form `(discipline_name, variable_name, new_variable_name)`:\n\n"
      ]
    },
    {
      "cell_type": "code",
      "execution_count": null,
      "metadata": {
        "collapsed": false
      },
      "outputs": [],
      "source": [
        "renamer = VariableRenamer.from_tuples((\"A\", \"a\", \"x\"), (\"B\", \"b\", \"y\"), (\"A\", \"c\", \"z\"))\nrenamer.translators"
      ]
    },
    {
      "cell_type": "markdown",
      "metadata": {},
      "source": [
        "or from a nested dictionary\nof the form `{discipline_name: {variable_name: new_variable_name}}`:\n\n"
      ]
    },
    {
      "cell_type": "code",
      "execution_count": null,
      "metadata": {
        "collapsed": false
      },
      "outputs": [],
      "source": [
        "renamer = VariableRenamer.from_dictionary({\"A\": {\"a\": \"x\", \"c\": \"z\"}, \"B\": {\"b\": \"y\"}})\nrenamer.translators"
      ]
    },
    {
      "cell_type": "markdown",
      "metadata": {},
      "source": [
        "## Define the translation from a file\nLastly,\nthe [VariableRenamer][gemseo_fmu.utils.variable_renaming.VariableRenamer]\ncan easily be created from a file,\nwhich may be more convenient from a user point of view.\n\n### From a CSV file\nGiven a CSV file\nwhose rows are translations\nand columns denote\nthe name of the source discipline,\nthe name of the variable within the source discipline,\nthe name of the target discipline\nand the name of the variable with the target discipline:\n```\nA,a,x\nB,b,y\nA,c,z\n```\nwe can create this object with the following lines:\n```python\nrenamer = VariableRenamer.from_csv(file_path)\ntranslators = renamer.translators\n```\n\n!!! tip\n    Use the `sep` argument to use a separator character other than `\",\"`.\n\n### From a spreadsheet file\nGiven a spreadsheet file\nwhose rows are translations\nand columns denote\nthe name of the discipline,\nthe name of the variable,\nand the new name of the discipline:\n\n![ ](../../../images/renaming_spreadsheet.png)\n\nwe can create this object with the following lines:\n```python\nrenamer = VariableRenamer.from_spread_sheet(file_path)\ntranslators = renamer.translators\n```\n\n"
      ]
    }
  ],
  "metadata": {
    "kernelspec": {
      "display_name": "Python 3",
      "language": "python",
      "name": "python3"
    },
    "language_info": {
      "codemirror_mode": {
        "name": "ipython",
        "version": 3
      },
      "file_extension": ".py",
      "mimetype": "text/x-python",
      "name": "python",
      "nbconvert_exporter": "python",
      "pygments_lexer": "ipython3",
      "version": "3.9.21"
    }
  },
  "nbformat": 4,
  "nbformat_minor": 0
}