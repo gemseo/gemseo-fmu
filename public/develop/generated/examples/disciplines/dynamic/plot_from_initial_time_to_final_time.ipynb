{
  "cells": [
    {
      "cell_type": "code",
      "execution_count": null,
      "metadata": {
        "collapsed": false
      },
      "outputs": [],
      "source": [
        "%matplotlib inline"
      ]
    },
    {
      "cell_type": "markdown",
      "metadata": {},
      "source": [
        "# From initial time to final time\n\nThe most obvious use of the\n[DynamicFMUDiscipline][gemseo_fmu.disciplines.dynamic_fmu_discipline.DynamicFMUDiscipline]\nis to simulate an FMU model\nfrom an initial time to a final time\nin one go.\n"
      ]
    },
    {
      "cell_type": "code",
      "execution_count": null,
      "metadata": {
        "collapsed": false
      },
      "outputs": [],
      "source": [
        "from __future__ import annotations\n\nfrom matplotlib import pyplot as plt\nfrom numpy import array\n\nfrom gemseo_fmu.disciplines.dynamic_fmu_discipline import DynamicFMUDiscipline\nfrom gemseo_fmu.problems.fmu_files import get_fmu_file_path"
      ]
    },
    {
      "cell_type": "markdown",
      "metadata": {},
      "source": [
        "Let us create a discipline\nto simulate a mass damper defined in a FMU model\nfrom 0 to 1 second with a time step of 0.1 millisecond.\nWe only use the mass of the sliding mass [kg]\nand the spring constant [N/m] as inputs\nand the position of the mass [m] as output.\n\n"
      ]
    },
    {
      "cell_type": "code",
      "execution_count": null,
      "metadata": {
        "collapsed": false
      },
      "outputs": [],
      "source": [
        "discipline = DynamicFMUDiscipline(\n    get_fmu_file_path(\"Mass_Damper\"),\n    [\"mass.m\", \"spring.c\"],\n    [\"y\"],\n    initial_time=0.0,\n    final_time=1.0,\n    time_step=0.0001,\n)"
      ]
    },
    {
      "cell_type": "markdown",
      "metadata": {},
      "source": [
        "Firstly,\nwe simulate the FMU with the default input values:\n\n"
      ]
    },
    {
      "cell_type": "code",
      "execution_count": null,
      "metadata": {
        "collapsed": false
      },
      "outputs": [],
      "source": [
        "discipline.execute()"
      ]
    },
    {
      "cell_type": "markdown",
      "metadata": {},
      "source": [
        "and store the time evolution of the position of the mass:\n\n"
      ]
    },
    {
      "cell_type": "code",
      "execution_count": null,
      "metadata": {
        "collapsed": false
      },
      "outputs": [],
      "source": [
        "default_y_evolution = discipline.local_data[\"y\"]"
      ]
    },
    {
      "cell_type": "markdown",
      "metadata": {},
      "source": [
        "Then,\nwe repeat the experiment with custom values\nof the mass and spring constants:\n\n"
      ]
    },
    {
      "cell_type": "code",
      "execution_count": null,
      "metadata": {
        "collapsed": false
      },
      "outputs": [],
      "source": [
        "discipline.execute({\"mass.m\": array([1.5]), \"spring.c\": array([1050.0])})"
      ]
    },
    {
      "cell_type": "markdown",
      "metadata": {},
      "source": [
        "Lastly,\nwe use a chart to compare the positions of the mass:\n\n"
      ]
    },
    {
      "cell_type": "code",
      "execution_count": null,
      "metadata": {
        "collapsed": false
      },
      "outputs": [],
      "source": [
        "plt.plot(discipline.time, default_y_evolution, label=\"Default\")\nplt.plot(discipline.time, discipline.local_data[\"y\"], label=\"Custom\")\nplt.xlabel(\"Time [s]\")\nplt.ylabel(\"Amplitude [m]\")\nplt.legend()\nplt.show()"
      ]
    }
  ],
  "metadata": {
    "kernelspec": {
      "display_name": "Python 3",
      "language": "python",
      "name": "python3"
    },
    "language_info": {
      "codemirror_mode": {
        "name": "ipython",
        "version": 3
      },
      "file_extension": ".py",
      "mimetype": "text/x-python",
      "name": "python",
      "nbconvert_exporter": "python",
      "pygments_lexer": "ipython3",
      "version": "3.9.12"
    }
  },
  "nbformat": 4,
  "nbformat_minor": 0
}