{
  "cells": [
    {
      "cell_type": "code",
      "execution_count": null,
      "metadata": {
        "collapsed": false
      },
      "outputs": [],
      "source": [
        "%matplotlib inline"
      ]
    },
    {
      "cell_type": "markdown",
      "metadata": {},
      "source": [
        "# Do not restart\n\nIn some situations,\nwe may want to configure the\n[DynamicFMUDiscipline][gemseo_fmu.disciplines.dynamic_fmu_discipline.DynamicFMUDiscipline]\nso that each execution starts where the previous one stopped.\n"
      ]
    },
    {
      "cell_type": "code",
      "execution_count": null,
      "metadata": {
        "collapsed": false
      },
      "outputs": [],
      "source": [
        "from __future__ import annotations\n\nfrom matplotlib import pyplot as plt\nfrom numpy import array\n\nfrom gemseo_fmu.disciplines.dynamic_fmu_discipline import DynamicFMUDiscipline\nfrom gemseo_fmu.problems.fmu_files import get_fmu_file_path"
      ]
    },
    {
      "cell_type": "markdown",
      "metadata": {},
      "source": [
        "Let us create a discipline\nto simulate a mass damper defined in an FMU model\nfrom 0 to 1 second with a time step of 0.1 milliseconds.\nWe only use the mass of the sliding mass [kg]\nand the spring constant [N/m] as inputs.\nThe position of the mass [m] is used as output.\n\n"
      ]
    },
    {
      "cell_type": "code",
      "execution_count": null,
      "metadata": {
        "collapsed": false
      },
      "outputs": [],
      "source": [
        "discipline = DynamicFMUDiscipline(\n    get_fmu_file_path(\"Mass_Damper\"),\n    [\"mass.m\", \"spring.c\"],\n    [\"y\"],\n    initial_time=0.0,\n    final_time=1.0,\n    time_step=0.0001,\n    restart=False,\n)"
      ]
    },
    {
      "cell_type": "markdown",
      "metadata": {},
      "source": [
        "!!! note\n    We had to set `restart` to `False`\n    as the default behavior of the\n    [DynamicFMUDiscipline][gemseo_fmu.disciplines.dynamic_fmu_discipline.DynamicFMUDiscipline]\n    is to run each execution from the start time.\n\nThen,\nwe execute the discipline setting a simulation time of 0.3 seconds\nwith the default input values:\n\n"
      ]
    },
    {
      "cell_type": "code",
      "execution_count": null,
      "metadata": {
        "collapsed": false
      },
      "outputs": [],
      "source": [
        "discipline.set_next_execution(simulation_time=0.3)\ndiscipline.execute()"
      ]
    },
    {
      "cell_type": "markdown",
      "metadata": {},
      "source": [
        "and store the time evolution of the position of the mass:\n\n"
      ]
    },
    {
      "cell_type": "code",
      "execution_count": null,
      "metadata": {
        "collapsed": false
      },
      "outputs": [],
      "source": [
        "time_evolution_1 = (discipline.time, discipline.local_data[\"y\"])"
      ]
    },
    {
      "cell_type": "markdown",
      "metadata": {},
      "source": [
        "We repeat this experiment with custom input values:\n\n"
      ]
    },
    {
      "cell_type": "code",
      "execution_count": null,
      "metadata": {
        "collapsed": false
      },
      "outputs": [],
      "source": [
        "discipline.set_next_execution(simulation_time=0.3)\ndiscipline.execute({\"mass.m\": array([1.5]), \"spring.c\": array([1050.0])})"
      ]
    },
    {
      "cell_type": "markdown",
      "metadata": {},
      "source": [
        "store the results:\n\n"
      ]
    },
    {
      "cell_type": "code",
      "execution_count": null,
      "metadata": {
        "collapsed": false
      },
      "outputs": [],
      "source": [
        "time_evolution_2 = (discipline.time, discipline.local_data[\"y\"])"
      ]
    },
    {
      "cell_type": "markdown",
      "metadata": {},
      "source": [
        "and execute the discipline until the final time:\n\n"
      ]
    },
    {
      "cell_type": "code",
      "execution_count": null,
      "metadata": {
        "collapsed": false
      },
      "outputs": [],
      "source": [
        "discipline.execute()\ntime_evolution_3 = (discipline.time, discipline.local_data[\"y\"])"
      ]
    },
    {
      "cell_type": "markdown",
      "metadata": {},
      "source": [
        "Lastly,\nwe draw this trajectory on a chart:\n\n"
      ]
    },
    {
      "cell_type": "code",
      "execution_count": null,
      "metadata": {
        "collapsed": false
      },
      "outputs": [],
      "source": [
        "plt.plot(*time_evolution_1, label=\"Default 1/3\")\nplt.plot(*time_evolution_2, label=\"Default 2/3\")\nplt.plot(*time_evolution_3, label=\"Default 3/3\")\nplt.xlabel(\"Time [s]\")\nplt.ylabel(\"Amplitude [m]\")\nplt.legend()\nplt.show()"
      ]
    }
  ],
  "metadata": {
    "kernelspec": {
      "display_name": "Python 3",
      "language": "python",
      "name": "python3"
    },
    "language_info": {
      "codemirror_mode": {
        "name": "ipython",
        "version": 3
      },
      "file_extension": ".py",
      "mimetype": "text/x-python",
      "name": "python",
      "nbconvert_exporter": "python",
      "pygments_lexer": "ipython3",
      "version": "3.9.16"
    }
  },
  "nbformat": 4,
  "nbformat_minor": 0
}